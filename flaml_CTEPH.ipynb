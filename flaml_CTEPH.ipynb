{
  "nbformat": 4,
  "nbformat_minor": 0,
  "metadata": {
    "colab": {
      "provenance": []
    },
    "kernelspec": {
      "name": "python3",
      "display_name": "Python 3"
    },
    "language_info": {
      "name": "python"
    }
  },
  "cells": [
    {
      "cell_type": "code",
      "metadata": {
        "id": "BnA4CTi1qW99"
      },
      "source": [
        "! pip -q install flaml"
      ],
      "execution_count": null,
      "outputs": []
    },
    {
      "cell_type": "code",
      "source": [
        "# Please Upload CSV file.\n"
      ],
      "metadata": {
        "id": "qc1R2j_1bOkY"
      },
      "execution_count": null,
      "outputs": []
    },
    {
      "cell_type": "code",
      "metadata": {
        "id": "bBCxxDk0qyrt"
      },
      "source": [
        "! git clone https://github.com/benzenedog/Regression-of-mPAP-of-CTEPH.git\n",
        "! cp Regression-of-mPAP-of-CTEPH/regression_train_test.py regression_train_test6.py\n"
      ],
      "execution_count": null,
      "outputs": []
    },
    {
      "cell_type": "code",
      "metadata": {
        "id": "avD4ZUbzt8Mm"
      },
      "source": [
        "! date +\"%Y/%m/%d %H:%M:%S\" > st.txt\n",
        "! python regression_train_test6.py --dataset 1 --scale 1 --log 2 -n 10 -f 0 --model 1 2>&1 | tee n10__model1_scale1_log2.txt\n",
        "! date +\"%Y/%m/%d %H:%M:%S\" > en.txt\n",
        "\n"
      ],
      "execution_count": null,
      "outputs": []
    },
    {
      "cell_type": "code",
      "metadata": {
        "id": "hYomm8N9wX_r"
      },
      "source": [
        "! cat st.txt en.txt\n",
        "! echo \"******************************\"\n",
        "! grep Means ./*.txt | sort | grep -v nan | tail -n 5\n"
      ],
      "execution_count": null,
      "outputs": []
    },
    {
      "cell_type": "code",
      "metadata": {
        "id": "wA6Udae-b_fj"
      },
      "source": [],
      "execution_count": null,
      "outputs": []
    }
  ]
}