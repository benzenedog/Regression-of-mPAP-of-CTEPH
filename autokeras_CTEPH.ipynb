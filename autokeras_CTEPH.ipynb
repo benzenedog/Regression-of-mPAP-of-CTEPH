{
  "nbformat": 4,
  "nbformat_minor": 0,
  "metadata": {
    "colab": {
      "provenance": [],
      "gpuType": "T4"
    },
    "kernelspec": {
      "name": "python3",
      "display_name": "Python 3"
    },
    "language_info": {
      "name": "python"
    },
    "accelerator": "GPU"
  },
  "cells": [
    {
      "cell_type": "code",
      "metadata": {
        "id": "BnA4CTi1qW99"
      },
      "source": [
        "! pip -q install autokeras"
      ],
      "execution_count": null,
      "outputs": []
    },
    {
      "cell_type": "code",
      "source": [
        "# Please Upload CSV file.\n"
      ],
      "metadata": {
        "id": "j-Y8MsEzXD_w"
      },
      "execution_count": null,
      "outputs": []
    },
    {
      "cell_type": "code",
      "metadata": {
        "id": "j_WMoZPjpaBt"
      },
      "source": [
        "! git clone https://github.com/benzenedog/Regression-of-mPAP-of-CTEPH.git\n",
        "! cp Regression-of-mPAP-of-CTEPH/regression_train_test.py regression_train_test6.py\n"
      ],
      "execution_count": null,
      "outputs": []
    },
    {
      "cell_type": "code",
      "metadata": {
        "id": "avD4ZUbzt8Mm"
      },
      "source": [
        "%%bash\n",
        "\n",
        "mkdir -p log/\n",
        "date +\"%Y/%m/%d %H:%M:%S\" > st.txt\n",
        "\n",
        "for i in `seq 0 9`\n",
        "do\n",
        "  cmd=\"python regression_train_test6.py --dataset 1 --scale 1 --log 2 -n 10 -f 0 --model 4 --split-seed $i\"\n",
        "  f=\"log/n10__model4_scale1_log2_seed$i.txt\"\n",
        "\n",
        "  echo $cmd $f\n",
        "\n",
        "  $cmd > $f\n",
        "done\n",
        "\n",
        "date +\"%Y/%m/%d %H:%M:%S\" > en.txt"
      ],
      "execution_count": null,
      "outputs": []
    },
    {
      "cell_type": "code",
      "source": [
        "! cat st.txt en.txt\n"
      ],
      "metadata": {
        "id": "XUSw0Ma048uJ"
      },
      "execution_count": null,
      "outputs": []
    },
    {
      "cell_type": "code",
      "source": [
        "! rm log/*log1*"
      ],
      "metadata": {
        "id": "2oMuZ7JLeAgb"
      },
      "execution_count": null,
      "outputs": []
    },
    {
      "cell_type": "code",
      "metadata": {
        "id": "o0fgF_M-bvOc"
      },
      "source": [
        "! tail -n 1 ./log/*.txt | grep Metrics\n",
        "\n",
        "! tail -n 1 ./log/*.txt | grep Metrics  | cut -d \":\" -f 2 | cut -d '[' -f 2 | cut -d ',' -f 1\n"
      ],
      "execution_count": null,
      "outputs": []
    },
    {
      "cell_type": "code",
      "metadata": {
        "id": "hYomm8N9wX_r"
      },
      "source": [
        "! tail -n 1 ./log/*.txt | grep Metrics  | cut -d \":\" -f 2 | cut -d '[' -f 2 | cut -d ',' -f 1 | awk '{sum+=$1} END {print sum/NR}'"
      ],
      "execution_count": null,
      "outputs": []
    },
    {
      "cell_type": "code",
      "source": [
        "! zip -r log.zip log/"
      ],
      "metadata": {
        "id": "6PzCVhHlX_SS"
      },
      "execution_count": null,
      "outputs": []
    }
  ]
}