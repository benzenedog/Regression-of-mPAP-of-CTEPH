{
  "nbformat": 4,
  "nbformat_minor": 0,
  "metadata": {
    "colab": {
      "provenance": []
    },
    "kernelspec": {
      "name": "python3",
      "display_name": "Python 3"
    },
    "language_info": {
      "name": "python"
    }
  },
  "cells": [
    {
      "cell_type": "markdown",
      "source": [
        "# regression models constructed with manual tuning"
      ],
      "metadata": {
        "id": "ceUA-6HE60Zu"
      }
    },
    {
      "cell_type": "code",
      "source": [
        "! pip list | grep learn"
      ],
      "metadata": {
        "id": "sVbeFtbzd645"
      },
      "execution_count": null,
      "outputs": []
    },
    {
      "cell_type": "code",
      "source": [
        "#! pip install scikit-learn==0.23.2\n"
      ],
      "metadata": {
        "id": "UsduNmPzeABQ"
      },
      "execution_count": null,
      "outputs": []
    },
    {
      "cell_type": "code",
      "metadata": {
        "id": "j_WMoZPjpaBt"
      },
      "source": [
        "# Please Upload CSV file.\n"
      ],
      "execution_count": null,
      "outputs": []
    },
    {
      "cell_type": "code",
      "metadata": {
        "id": "bBCxxDk0qyrt"
      },
      "source": [
        "import pandas as pd\n",
        "df = pd.read_csv(\"2021_1218_main_NA_excluded.csv\")\n",
        "df.head()"
      ],
      "execution_count": null,
      "outputs": []
    },
    {
      "cell_type": "code",
      "source": [
        "! git clone https://github.com/benzenedog/Regression-of-mPAP-of-CTEPH.git\n",
        "! cp Regression-of-mPAP-of-CTEPH/regression_train_test.py regression_train_test6.py"
      ],
      "metadata": {
        "id": "mfKyg6D-Ogfo"
      },
      "execution_count": null,
      "outputs": []
    },
    {
      "cell_type": "code",
      "metadata": {
        "id": "E_vDlSHFtzXS"
      },
      "source": [
        "! python regression_train_test6.py --dataset 1 --scale 1 --log 2 -n 10 --model 0 -f 0 | grep Means"
      ],
      "execution_count": null,
      "outputs": []
    },
    {
      "cell_type": "code",
      "source": [
        "! python regression_train_test6.py --dataset 1 --scale 1 --log 2 -n 10 --model 0 -f 1 | grep Means"
      ],
      "metadata": {
        "id": "jgxmN0Kvtgfk"
      },
      "execution_count": null,
      "outputs": []
    },
    {
      "cell_type": "code",
      "metadata": {
        "id": "ET3hZqhV2myV"
      },
      "source": [],
      "execution_count": null,
      "outputs": []
    }
  ]
}