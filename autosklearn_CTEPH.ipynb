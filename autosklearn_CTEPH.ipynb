{
  "nbformat": 4,
  "nbformat_minor": 0,
  "metadata": {
    "colab": {
      "provenance": []
    },
    "kernelspec": {
      "name": "python3",
      "display_name": "Python 3"
    },
    "language_info": {
      "name": "python"
    }
  },
  "cells": [
    {
      "cell_type": "code",
      "metadata": {
        "id": "BnA4CTi1qW99"
      },
      "source": [
        "! sudo apt install build-essential swig"
      ],
      "execution_count": null,
      "outputs": []
    },
    {
      "cell_type": "code",
      "source": [
        "! wget https://repo.anaconda.com/archive/Anaconda3-2020.07-Linux-x86_64.sh"
      ],
      "metadata": {
        "id": "grrsP8iikz1I"
      },
      "execution_count": null,
      "outputs": []
    },
    {
      "cell_type": "code",
      "source": [
        "! bash Anaconda3-*-Linux-x86_64.sh -b"
      ],
      "metadata": {
        "id": "YVDpEu5rlJIl"
      },
      "execution_count": null,
      "outputs": []
    },
    {
      "cell_type": "code",
      "source": [
        "! ~/anaconda3/bin/pip list | grep scikit"
      ],
      "metadata": {
        "id": "zW7rYMtcq0Nd"
      },
      "execution_count": null,
      "outputs": []
    },
    {
      "cell_type": "code",
      "source": [
        "! git clone https://github.com/automl/auto-sklearn.git"
      ],
      "metadata": {
        "id": "xeBIPXmezs_Z"
      },
      "execution_count": null,
      "outputs": []
    },
    {
      "cell_type": "code",
      "source": [
        "! cp auto-sklearn/requirements.txt ."
      ],
      "metadata": {
        "id": "-xNVO_Cxzv_G"
      },
      "execution_count": null,
      "outputs": []
    },
    {
      "cell_type": "code",
      "source": [
        "#! ~/anaconda3/bin/pip install -r requirements.txt"
      ],
      "metadata": {
        "id": "xjQfes_2z2ra"
      },
      "execution_count": null,
      "outputs": []
    },
    {
      "cell_type": "code",
      "metadata": {
        "id": "lrufJiSm7TGY"
      },
      "source": [
        "! ~/anaconda3/bin/pip install auto-sklearn==0.14.0 imgaug==0.2.6 scipy==1.7.0 dask==2021.06 cloudpickle==1.3.0 smac==0.14 pynisher==0.6.3"
      ],
      "execution_count": null,
      "outputs": []
    },
    {
      "cell_type": "code",
      "source": [
        "! ~/anaconda3/bin/pip install xgboost ConfigSpace==0.4.20 typing-extensions==4.0"
      ],
      "metadata": {
        "id": "tLtiq-tztICN"
      },
      "execution_count": null,
      "outputs": []
    },
    {
      "cell_type": "code",
      "source": [
        "#! ~/anaconda3/bin/pip install smac==2.0.0"
      ],
      "metadata": {
        "id": "dDGLBZL1vPZG"
      },
      "execution_count": null,
      "outputs": []
    },
    {
      "cell_type": "code",
      "source": [
        "! ~/anaconda3/bin/pip list | grep  smac"
      ],
      "metadata": {
        "id": "S882WU7Wt-_f"
      },
      "execution_count": null,
      "outputs": []
    },
    {
      "cell_type": "markdown",
      "source": [
        "# Please Upload CSV file.\n"
      ],
      "metadata": {
        "id": "RvYiiEeybYvq"
      }
    },
    {
      "cell_type": "code",
      "metadata": {
        "id": "j_WMoZPjpaBt"
      },
      "source": [
        "! git clone https://github.com/benzenedog/Regression-of-mPAP-of-CTEPH.git\n",
        "! cp Regression-of-mPAP-of-CTEPH/regression_train_test.py regression_train_test6.py\n"
      ],
      "execution_count": null,
      "outputs": []
    },
    {
      "cell_type": "code",
      "metadata": {
        "id": "avD4ZUbzt8Mm"
      },
      "source": [
        "! date +\"%Y/%m/%d %H:%M:%S\" > st.txt\n",
        "! ~/anaconda3/bin/python regression_train_test6.py --dataset 1 --scale 1 --log 2 -n 10 -f 0 --model 3 > n10__model3_scale1_log2.txt\n",
        "! date +\"%Y/%m/%d %H:%M:%S\" > en.txt\n",
        "\n"
      ],
      "execution_count": null,
      "outputs": []
    },
    {
      "cell_type": "code",
      "metadata": {
        "id": "hYomm8N9wX_r"
      },
      "source": [
        "! cat st.txt en.txt\n",
        "! echo \"******************************\"\n",
        "! grep Means ./*.txt | sort | grep -v nan | tail -n 5\n"
      ],
      "execution_count": null,
      "outputs": []
    },
    {
      "cell_type": "code",
      "source": [],
      "metadata": {
        "id": "u5Gv89fVkSqP"
      },
      "execution_count": null,
      "outputs": []
    }
  ]
}